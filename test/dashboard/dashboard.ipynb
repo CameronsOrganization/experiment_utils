{
 "cells": [
  {
   "cell_type": "code",
   "execution_count": 5,
   "metadata": {},
   "outputs": [],
   "source": [
    "from experiment_utils import Dashboard\n",
    "import matplotlib.pyplot as plt"
   ]
  },
  {
   "cell_type": "code",
   "execution_count": 6,
   "metadata": {},
   "outputs": [],
   "source": [
    "dashboard = Dashboard(\"../../.logs/\")"
   ]
  },
  {
   "cell_type": "code",
   "execution_count": 7,
   "metadata": {},
   "outputs": [
    {
     "data": {
      "text/html": [
       "<div>\n",
       "<style scoped>\n",
       "    .dataframe tbody tr th:only-of-type {\n",
       "        vertical-align: middle;\n",
       "    }\n",
       "\n",
       "    .dataframe tbody tr th {\n",
       "        vertical-align: top;\n",
       "    }\n",
       "\n",
       "    .dataframe thead tr th {\n",
       "        text-align: left;\n",
       "    }\n",
       "</style>\n",
       "<table border=\"1\" class=\"dataframe\">\n",
       "  <thead>\n",
       "    <tr>\n",
       "      <th></th>\n",
       "      <th colspan=\"2\" halign=\"left\">meta</th>\n",
       "      <th colspan=\"4\" halign=\"left\">params</th>\n",
       "      <th colspan=\"15\" halign=\"left\">values</th>\n",
       "    </tr>\n",
       "    <tr>\n",
       "      <th></th>\n",
       "      <th>experiment_id</th>\n",
       "      <th>experiment_name</th>\n",
       "      <th>param1</th>\n",
       "      <th>param2</th>\n",
       "      <th>param3</th>\n",
       "      <th>param4</th>\n",
       "      <th>best_metric1</th>\n",
       "      <th>best_metric11</th>\n",
       "      <th>best_metric12</th>\n",
       "      <th>best_metric13</th>\n",
       "      <th>...</th>\n",
       "      <th>best_metric3</th>\n",
       "      <th>best_metric4</th>\n",
       "      <th>best_metric5</th>\n",
       "      <th>best_metric6</th>\n",
       "      <th>last_value1</th>\n",
       "      <th>last_value2</th>\n",
       "      <th>last_value3</th>\n",
       "      <th>last_value4</th>\n",
       "      <th>last_value5</th>\n",
       "      <th>last_value6</th>\n",
       "    </tr>\n",
       "  </thead>\n",
       "  <tbody>\n",
       "    <tr>\n",
       "      <th>../../.logs/250320_235352_parade_widely</th>\n",
       "      <td>250320_235352_parade_widely</td>\n",
       "      <td>test</td>\n",
       "      <td>1</td>\n",
       "      <td>2</td>\n",
       "      <td>3</td>\n",
       "      <td>4</td>\n",
       "      <td>1</td>\n",
       "      <td>1</td>\n",
       "      <td>2</td>\n",
       "      <td>3</td>\n",
       "      <td>...</td>\n",
       "      <td>3</td>\n",
       "      <td>18</td>\n",
       "      <td>27</td>\n",
       "      <td>36</td>\n",
       "      <td>1</td>\n",
       "      <td>2</td>\n",
       "      <td>3</td>\n",
       "      <td>18</td>\n",
       "      <td>27</td>\n",
       "      <td>36</td>\n",
       "    </tr>\n",
       "  </tbody>\n",
       "</table>\n",
       "<p>1 rows × 24 columns</p>\n",
       "</div>"
      ],
      "text/plain": [
       "                                                                meta  \\\n",
       "                                                       experiment_id   \n",
       "../../.logs/250320_235352_parade_widely  250320_235352_parade_widely   \n",
       "\n",
       "                                                        params                \\\n",
       "                                        experiment_name param1 param2 param3   \n",
       "../../.logs/250320_235352_parade_widely            test      1      2      3   \n",
       "\n",
       "                                                     values                \\\n",
       "                                        param4 best_metric1 best_metric11   \n",
       "../../.logs/250320_235352_parade_widely      4            1             1   \n",
       "\n",
       "                                                                     ...  \\\n",
       "                                        best_metric12 best_metric13  ...   \n",
       "../../.logs/250320_235352_parade_widely             2             3  ...   \n",
       "\n",
       "                                                                   \\\n",
       "                                        best_metric3 best_metric4   \n",
       "../../.logs/250320_235352_parade_widely            3           18   \n",
       "\n",
       "                                                                               \\\n",
       "                                        best_metric5 best_metric6 last_value1   \n",
       "../../.logs/250320_235352_parade_widely           27           36           1   \n",
       "\n",
       "                                                                             \\\n",
       "                                        last_value2 last_value3 last_value4   \n",
       "../../.logs/250320_235352_parade_widely           2           3          18   \n",
       "\n",
       "                                                                 \n",
       "                                        last_value5 last_value6  \n",
       "../../.logs/250320_235352_parade_widely          27          36  \n",
       "\n",
       "[1 rows x 24 columns]"
      ]
     },
     "execution_count": 7,
     "metadata": {},
     "output_type": "execute_result"
    }
   ],
   "source": [
    "df = dashboard.df()\n",
    "df"
   ]
  },
  {
   "cell_type": "code",
   "execution_count": 8,
   "metadata": {},
   "outputs": [
    {
     "data": {
      "text/html": [
       "<div>\n",
       "<style scoped>\n",
       "    .dataframe tbody tr th:only-of-type {\n",
       "        vertical-align: middle;\n",
       "    }\n",
       "\n",
       "    .dataframe tbody tr th {\n",
       "        vertical-align: top;\n",
       "    }\n",
       "\n",
       "    .dataframe thead th {\n",
       "        text-align: right;\n",
       "    }\n",
       "</style>\n",
       "<table border=\"1\" class=\"dataframe\">\n",
       "  <thead>\n",
       "    <tr style=\"text-align: right;\">\n",
       "      <th></th>\n",
       "      <th>250320_235352_parade_widely</th>\n",
       "    </tr>\n",
       "    <tr>\n",
       "      <th>step</th>\n",
       "      <th></th>\n",
       "    </tr>\n",
       "  </thead>\n",
       "  <tbody>\n",
       "    <tr>\n",
       "      <th>0</th>\n",
       "      <td>0</td>\n",
       "    </tr>\n",
       "    <tr>\n",
       "      <th>1</th>\n",
       "      <td>4</td>\n",
       "    </tr>\n",
       "    <tr>\n",
       "      <th>2</th>\n",
       "      <td>8</td>\n",
       "    </tr>\n",
       "    <tr>\n",
       "      <th>3</th>\n",
       "      <td>12</td>\n",
       "    </tr>\n",
       "    <tr>\n",
       "      <th>4</th>\n",
       "      <td>16</td>\n",
       "    </tr>\n",
       "    <tr>\n",
       "      <th>5</th>\n",
       "      <td>20</td>\n",
       "    </tr>\n",
       "    <tr>\n",
       "      <th>6</th>\n",
       "      <td>24</td>\n",
       "    </tr>\n",
       "    <tr>\n",
       "      <th>7</th>\n",
       "      <td>28</td>\n",
       "    </tr>\n",
       "    <tr>\n",
       "      <th>8</th>\n",
       "      <td>32</td>\n",
       "    </tr>\n",
       "    <tr>\n",
       "      <th>9</th>\n",
       "      <td>36</td>\n",
       "    </tr>\n",
       "  </tbody>\n",
       "</table>\n",
       "</div>"
      ],
      "text/plain": [
       "      250320_235352_parade_widely\n",
       "step                             \n",
       "0                               0\n",
       "1                               4\n",
       "2                               8\n",
       "3                              12\n",
       "4                              16\n",
       "5                              20\n",
       "6                              24\n",
       "7                              28\n",
       "8                              32\n",
       "9                              36"
      ]
     },
     "execution_count": 8,
     "metadata": {},
     "output_type": "execute_result"
    }
   ],
   "source": [
    "value_name = \"metric16\"\n",
    "dashboard.df_value(value_name)"
   ]
  },
  {
   "cell_type": "code",
   "execution_count": 9,
   "metadata": {},
   "outputs": [
    {
     "data": {
      "image/png": "[encoded data removed]",
      "text/plain": [
       "<Figure size 640x480 with 1 Axes>"
      ]
     },
     "metadata": {},
     "output_type": "display_data"
    }
   ],
   "source": [
    "dashboard.plot_value(value_name)"
   ]
  }
 ],
 "metadata": {
  "kernelspec": {
   "display_name": ".venv",
   "language": "python",
   "name": "python3"
  },
  "language_info": {
   "codemirror_mode": {
    "name": "ipython",
    "version": 3
   },
   "file_extension": ".py",
   "mimetype": "text/x-python",
   "name": "python",
   "nbconvert_exporter": "python",
   "pygments_lexer": "ipython3",
   "version": "3.12.3"
  }
 },
 "nbformat": 4,
 "nbformat_minor": 2
}
